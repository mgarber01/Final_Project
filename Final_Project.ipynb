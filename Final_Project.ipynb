{
 "cells": [
  {
   "cell_type": "markdown",
   "metadata": {},
   "source": [
    "geopandas installed easily with \"pip install geopandas\" using python 3.7 the other dependencies, shapely,fiona etc are dependencies of geopandas and should install with the geopandas. "
   ]
  },
  {
   "cell_type": "code",
   "execution_count": 1,
   "metadata": {},
   "outputs": [],
   "source": [
    "import pandas as pd\n",
    "import requests\n",
    "import geopandas as gpd\n",
    "import fiona\n",
    "from shapely.geometry import Point, mapping,shape\n",
    "from geopandas import GeoDataFrame, read_file\n",
    "#from geopandas.tools import overlay\n",
    "from geopandas.tools import sjoin\n",
    "import datetime as dt"
   ]
  },
  {
   "cell_type": "code",
   "execution_count": null,
   "metadata": {},
   "outputs": [],
   "source": [
    "\n",
    "#list of filenames to be called when reading in    \n",
    "filelist = ['COMED','DAYTON']   \n",
    "  \n",
    "## to be called when reading in json files    \n",
    "def cleandata(df):\n",
    "    df.insert(3,'Date_Clean', df.dt_iso.apply(lambda x: x[:19])\n",
    "                       .apply(lambda x: dt.datetime.strptime(x, '%Y-%m-%d %H:%M:%S')))\n",
    "    df.insert(4,\"Year\", df.Date_Clean.dt.year)      \n",
    "    df.insert(5,\"Month\", df.Date_Clean.dt.month)\n",
    "    df.insert(6,\"Day\",df.Date_Clean.dt.day)\n",
    "    df.insert(7,\"Day_of_Week\",df.Date_Clean.dt.weekday)\n",
    "    df.insert(8,\"Weekend\",df.Date_Clean.dt.weekday.apply(lambda x:1 if x > 4 else 0))\n",
    "    df['Temp(f)'] = [round((df['main'][x]['temp_max']-273.15)*(9/5)+32,2) for x in range(len(df.main.values))]\n",
    "    \n",
    "\n",
    "    return  df\n"
   ]
  },
  {
   "cell_type": "code",
   "execution_count": null,
   "metadata": {},
   "outputs": [],
   "source": [
    "# Reading in Power Data csv's\n",
    "dfPwr = pd.DataFrame()\n",
    "\n",
    "for x in range(len(filelist)):\n",
    "    df = pd.read_csv(f'{filelist[x]}_hourly.csv',parse_dates = ['Datetime'])\n",
    "    df.rename(columns = {f'{filelist[x]}_MW': 'MW'},inplace = True)\n",
    "    df.insert(2,'UTILITY',filelist[x])\n",
    "    \n",
    "    dfPwr = dfPwr.append(df,ignore_index= True,sort = False)\n",
    "dfPwr = dfPwr[(dfPwr.Datetime >= '2015-01-01') & (dfPwr.Datetime < '2018-01-01') ].copy()    "
   ]
  },
  {
   "cell_type": "code",
   "execution_count": null,
   "metadata": {},
   "outputs": [],
   "source": [
    "# Reading in Weather data jsons \n",
    "weatherDf = pd.DataFrame()\n",
    "for x in range(len(filelist)):\n",
    "    wdf = pd.read_json(f'{filelist[x]}_Weather.json')\n",
    "    wdf.insert(0,'Utility',filelist[x]) \n",
    "    # Calling function defined above\n",
    "    wdf = cleandata(wdf)\n",
    "\n",
    "    weatherDf = weatherDf.append(wdf,ignore_index = True,sort = False)\n",
    "\n",
    "weatherDf = weatherDf[['Utility','Date_Clean','Year','Month','Day','Day_of_Week',\n",
    "                      'Weekend','Temp(f)']].copy()\n",
    "weatherDf = weatherDf[(weatherDf.Date_Clean >= '2015-01-01') & (weatherDf.Date_Clean < '2018-01-01') ].copy()"
   ]
  },
  {
   "cell_type": "code",
   "execution_count": null,
   "metadata": {},
   "outputs": [],
   "source": [
    "# merging power and weather data and housekeeping\n",
    "weatherPwrDf = dfPwr.merge(weatherDf,how = 'inner',left_on = ['Datetime','UTILITY'],right_on = ['Date_Clean','Utility'])\n",
    "weatherPwrDf = weatherPwrDf[['Datetime','MW','Utility','Year','Month','Day','Day_of_Week','Weekend','Temp(f)']].copy()"
   ]
  },
  {
   "cell_type": "markdown",
   "metadata": {},
   "source": [
    "Code below is simply to get geographic data for visualization in tableau, no need to join to it until ML is completed "
   ]
  },
  {
   "cell_type": "code",
   "execution_count": 3,
   "metadata": {},
   "outputs": [],
   "source": [
    "gpd.pd.set_option('display.max_columns',500)\n",
    "\n",
    "## reading in shape file\n",
    "geoFile = gpd.GeoDataFrame.from_file('Electric_Retail_Service_Territories.shp')\n",
    "## resetting names of locations for later joins \n",
    "geoFile.loc[(geoFile.NAME.str.contains('EDISON'))& (geoFile.STATE == 'IL'),'NAME'] ='COMED'\n",
    "geoFile.loc[geoFile.NAME ==('DAYTON POWER & LIGHT CO'),'NAME'] = 'DAYTON'\n",
    "#limiting the file size for geographic area of interest\n",
    "geoFile = geoFile[geoFile.CNTRL_AREA == 'PJM INTERCONNECTION, LLC'].copy()\n",
    "\n",
    "## Join to be done after ML completed \n",
    "#geoPowerdf = geoFile.merge(weatherPwrDf,how = 'left',left_on = 'NAME',right_on = 'Utility')"
   ]
  },
  {
   "cell_type": "code",
   "execution_count": 5,
   "metadata": {},
   "outputs": [],
   "source": [
    "geoFile.to_file('Electric_Retail_Service_Territories.shp')"
   ]
  },
  {
   "cell_type": "code",
   "execution_count": null,
   "metadata": {},
   "outputs": [],
   "source": []
  },
  {
   "cell_type": "code",
   "execution_count": null,
   "metadata": {},
   "outputs": [],
   "source": []
  },
  {
   "cell_type": "code",
   "execution_count": null,
   "metadata": {},
   "outputs": [],
   "source": []
  },
  {
   "cell_type": "code",
   "execution_count": null,
   "metadata": {},
   "outputs": [],
   "source": []
  },
  {
   "cell_type": "code",
   "execution_count": null,
   "metadata": {},
   "outputs": [],
   "source": []
  },
  {
   "cell_type": "code",
   "execution_count": null,
   "metadata": {},
   "outputs": [],
   "source": []
  },
  {
   "cell_type": "code",
   "execution_count": null,
   "metadata": {},
   "outputs": [],
   "source": []
  },
  {
   "cell_type": "code",
   "execution_count": null,
   "metadata": {},
   "outputs": [],
   "source": []
  },
  {
   "cell_type": "code",
   "execution_count": null,
   "metadata": {},
   "outputs": [],
   "source": []
  },
  {
   "cell_type": "code",
   "execution_count": null,
   "metadata": {},
   "outputs": [],
   "source": []
  },
  {
   "cell_type": "code",
   "execution_count": null,
   "metadata": {},
   "outputs": [],
   "source": []
  }
 ],
 "metadata": {
  "kernelspec": {
   "display_name": "Python 3",
   "language": "python",
   "name": "python3"
  },
  "language_info": {
   "codemirror_mode": {
    "name": "ipython",
    "version": 3
   },
   "file_extension": ".py",
   "mimetype": "text/x-python",
   "name": "python",
   "nbconvert_exporter": "python",
   "pygments_lexer": "ipython3",
   "version": "3.7.1"
  }
 },
 "nbformat": 4,
 "nbformat_minor": 2
}
