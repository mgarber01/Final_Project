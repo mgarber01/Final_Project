{
 "cells": [
  {
   "cell_type": "markdown",
   "metadata": {},
   "source": [
    "geopandas installed easily with \"pip install geopandas\" using python 3.7 the other dependencies, shapely,fiona etc are dependencies of geopandas and should install with the geopandas. "
   ]
  },
  {
   "cell_type": "code",
   "execution_count": 3,
   "metadata": {},
   "outputs": [],
   "source": [
    "import pandas as pd\n",
    "import requests\n",
    "# import geopandas as gpd\n",
    "# import fiona\n",
    "# from shapely.geometry import Point, mapping,shape\n",
    "# from geopandas import GeoDataFrame, read_file\n",
    "#from geopandas.tools import overlay\n",
    "# from geopandas.tools import sjoin\n",
    "import datetime as dt"
   ]
  },
  {
   "cell_type": "code",
   "execution_count": 4,
   "metadata": {},
   "outputs": [],
   "source": [
    "\n",
    "#list of filenames to be called when reading in    \n",
    "filelist = ['COMED','DAYTON']   \n",
    "  \n",
    "## to be called when reading in json files    \n",
    "def cleandata(df):\n",
    "    df.insert(3,'Date_Clean', df.dt_iso.apply(lambda x: x[:19])\n",
    "                       .apply(lambda x: dt.datetime.strptime(x, '%Y-%m-%d %H:%M:%S')))\n",
    "    df.insert(4,\"Year\", df.Date_Clean.dt.year)      \n",
    "    df.insert(5,\"Month\", df.Date_Clean.dt.month)\n",
    "    df.insert(6,\"Day\",df.Date_Clean.dt.day)\n",
    "    df.insert(7,\"Day_of_Week\",df.Date_Clean.dt.weekday)\n",
    "    df.insert(8,\"Weekend\",df.Date_Clean.dt.weekday.apply(lambda x:1 if x > 4 else 0))\n",
    "    df['Temp(f)'] = [round((df['main'][x]['temp_max']-273.15)*(9/5)+32,2) for x in range(len(df.main.values))]\n",
    "    \n",
    "\n",
    "    return  df\n"
   ]
  },
  {
   "cell_type": "code",
   "execution_count": 5,
   "metadata": {},
   "outputs": [],
   "source": [
    "# Reading in Power Data csv's\n",
    "dfPwr = pd.DataFrame()\n",
    "\n",
    "for x in range(len(filelist)):\n",
    "    df = pd.read_csv(f'{filelist[x]}_hourly.csv',parse_dates = ['Datetime'])\n",
    "    df.rename(columns = {f'{filelist[x]}_MW': 'MW'},inplace = True)\n",
    "    df.insert(2,'UTILITY',filelist[x])\n",
    "    \n",
    "    dfPwr = dfPwr.append(df,ignore_index= True,sort = False)\n",
    "dfPwr = dfPwr[(dfPwr.Datetime >= '2015-01-01') & (dfPwr.Datetime < '2018-01-01') ].copy()    "
   ]
  },
  {
   "cell_type": "code",
   "execution_count": 6,
   "metadata": {},
   "outputs": [],
   "source": [
    "# Reading in Weather data jsons \n",
    "weatherDf = pd.DataFrame()\n",
    "for x in range(len(filelist)):\n",
    "    wdf = pd.read_json(f'{filelist[x]}_Weather.json')\n",
    "    wdf.insert(0,'Utility',filelist[x]) \n",
    "    # Calling function defined above\n",
    "    wdf = cleandata(wdf)\n",
    "\n",
    "    weatherDf = weatherDf.append(wdf,ignore_index = True,sort = False)\n",
    "\n",
    "weatherDf = weatherDf[['Utility','Date_Clean','Year','Month','Day','Day_of_Week',\n",
    "                      'Weekend','Temp(f)']].copy()\n",
    "weatherDf = weatherDf[(weatherDf.Date_Clean >= '2015-01-01') & (weatherDf.Date_Clean < '2018-01-01') ].copy()"
   ]
  },
  {
   "cell_type": "code",
   "execution_count": 7,
   "metadata": {},
   "outputs": [],
   "source": [
    "# merging power and weather data and housekeeping\n",
    "weatherPwrDf = dfPwr.merge(weatherDf,how = 'inner',left_on = ['Datetime','UTILITY'],right_on = ['Date_Clean','Utility'])\n",
    "weatherPwrDf = weatherPwrDf[['Datetime','MW','Utility','Year','Month','Day','Day_of_Week','Weekend','Temp(f)']].copy()"
   ]
  },
  {
   "cell_type": "code",
   "execution_count": 13,
   "metadata": {},
   "outputs": [
    {
     "data": {
      "text/html": [
       "<div>\n",
       "<style scoped>\n",
       "    .dataframe tbody tr th:only-of-type {\n",
       "        vertical-align: middle;\n",
       "    }\n",
       "\n",
       "    .dataframe tbody tr th {\n",
       "        vertical-align: top;\n",
       "    }\n",
       "\n",
       "    .dataframe thead th {\n",
       "        text-align: right;\n",
       "    }\n",
       "</style>\n",
       "<table border=\"1\" class=\"dataframe\">\n",
       "  <thead>\n",
       "    <tr style=\"text-align: right;\">\n",
       "      <th></th>\n",
       "      <th>Datetime</th>\n",
       "      <th>MW</th>\n",
       "      <th>Utility</th>\n",
       "      <th>Year</th>\n",
       "      <th>Month</th>\n",
       "      <th>Day</th>\n",
       "      <th>Day_of_Week</th>\n",
       "      <th>Weekend</th>\n",
       "      <th>Temp(f)</th>\n",
       "    </tr>\n",
       "  </thead>\n",
       "  <tbody>\n",
       "    <tr>\n",
       "      <th>3593</th>\n",
       "      <td>2016-12-31 01:00:00</td>\n",
       "      <td>10419.0</td>\n",
       "      <td>COMED</td>\n",
       "      <td>2016</td>\n",
       "      <td>12</td>\n",
       "      <td>31</td>\n",
       "      <td>5</td>\n",
       "      <td>1</td>\n",
       "      <td>32.0</td>\n",
       "    </tr>\n",
       "    <tr>\n",
       "      <th>3594</th>\n",
       "      <td>2016-12-31 02:00:00</td>\n",
       "      <td>9940.0</td>\n",
       "      <td>COMED</td>\n",
       "      <td>2016</td>\n",
       "      <td>12</td>\n",
       "      <td>31</td>\n",
       "      <td>5</td>\n",
       "      <td>1</td>\n",
       "      <td>32.0</td>\n",
       "    </tr>\n",
       "    <tr>\n",
       "      <th>3595</th>\n",
       "      <td>2016-12-31 03:00:00</td>\n",
       "      <td>9604.0</td>\n",
       "      <td>COMED</td>\n",
       "      <td>2016</td>\n",
       "      <td>12</td>\n",
       "      <td>31</td>\n",
       "      <td>5</td>\n",
       "      <td>1</td>\n",
       "      <td>35.6</td>\n",
       "    </tr>\n",
       "    <tr>\n",
       "      <th>3596</th>\n",
       "      <td>2016-12-31 04:00:00</td>\n",
       "      <td>9318.0</td>\n",
       "      <td>COMED</td>\n",
       "      <td>2016</td>\n",
       "      <td>12</td>\n",
       "      <td>31</td>\n",
       "      <td>5</td>\n",
       "      <td>1</td>\n",
       "      <td>37.4</td>\n",
       "    </tr>\n",
       "    <tr>\n",
       "      <th>3597</th>\n",
       "      <td>2016-12-31 05:00:00</td>\n",
       "      <td>9224.0</td>\n",
       "      <td>COMED</td>\n",
       "      <td>2016</td>\n",
       "      <td>12</td>\n",
       "      <td>31</td>\n",
       "      <td>5</td>\n",
       "      <td>1</td>\n",
       "      <td>37.4</td>\n",
       "    </tr>\n",
       "  </tbody>\n",
       "</table>\n",
       "</div>"
      ],
      "text/plain": [
       "                Datetime       MW Utility  Year  Month  Day  Day_of_Week  \\\n",
       "3593 2016-12-31 01:00:00  10419.0   COMED  2016     12   31            5   \n",
       "3594 2016-12-31 02:00:00   9940.0   COMED  2016     12   31            5   \n",
       "3595 2016-12-31 03:00:00   9604.0   COMED  2016     12   31            5   \n",
       "3596 2016-12-31 04:00:00   9318.0   COMED  2016     12   31            5   \n",
       "3597 2016-12-31 05:00:00   9224.0   COMED  2016     12   31            5   \n",
       "\n",
       "      Weekend  Temp(f)  \n",
       "3593        1     32.0  \n",
       "3594        1     32.0  \n",
       "3595        1     35.6  \n",
       "3596        1     37.4  \n",
       "3597        1     37.4  "
      ]
     },
     "execution_count": 13,
     "metadata": {},
     "output_type": "execute_result"
    }
   ],
   "source": [
    "df2016 = weatherPwrDf[weatherPwrDf.Year == 2016].copy()\n",
    "df2016.head()"
   ]
  },
  {
   "cell_type": "code",
   "execution_count": 14,
   "metadata": {},
   "outputs": [],
   "source": [
    "df2016.to_csv('2016_Data')"
   ]
  },
  {
   "cell_type": "markdown",
   "metadata": {},
   "source": [
    "Code below is simply to get geographic data for visualization in tableau, no need to join to it until ML is completed "
   ]
  },
  {
   "cell_type": "code",
   "execution_count": null,
   "metadata": {},
   "outputs": [],
   "source": []
  },
  {
   "cell_type": "code",
   "execution_count": 8,
   "metadata": {},
   "outputs": [
    {
     "ename": "NameError",
     "evalue": "name 'gpd' is not defined",
     "output_type": "error",
     "traceback": [
      "\u001b[1;31m---------------------------------------------------------------------------\u001b[0m",
      "\u001b[1;31mNameError\u001b[0m                                 Traceback (most recent call last)",
      "\u001b[1;32m<ipython-input-8-96b1086185aa>\u001b[0m in \u001b[0;36m<module>\u001b[1;34m()\u001b[0m\n\u001b[1;32m----> 1\u001b[1;33m \u001b[0mgpd\u001b[0m\u001b[1;33m.\u001b[0m\u001b[0mpd\u001b[0m\u001b[1;33m.\u001b[0m\u001b[0mset_option\u001b[0m\u001b[1;33m(\u001b[0m\u001b[1;34m'display.max_columns'\u001b[0m\u001b[1;33m,\u001b[0m\u001b[1;36m500\u001b[0m\u001b[1;33m)\u001b[0m\u001b[1;33m\u001b[0m\u001b[0m\n\u001b[0m\u001b[0;32m      2\u001b[0m \u001b[1;33m\u001b[0m\u001b[0m\n\u001b[0;32m      3\u001b[0m \u001b[1;31m## reading in shape file\u001b[0m\u001b[1;33m\u001b[0m\u001b[1;33m\u001b[0m\u001b[0m\n\u001b[0;32m      4\u001b[0m \u001b[0mgeoFile\u001b[0m \u001b[1;33m=\u001b[0m \u001b[0mgpd\u001b[0m\u001b[1;33m.\u001b[0m\u001b[0mGeoDataFrame\u001b[0m\u001b[1;33m.\u001b[0m\u001b[0mfrom_file\u001b[0m\u001b[1;33m(\u001b[0m\u001b[1;34m'Electric_Retail_Service_Territories.shp'\u001b[0m\u001b[1;33m)\u001b[0m\u001b[1;33m\u001b[0m\u001b[0m\n\u001b[0;32m      5\u001b[0m \u001b[1;31m## resetting names of locations for later joins\u001b[0m\u001b[1;33m\u001b[0m\u001b[1;33m\u001b[0m\u001b[0m\n",
      "\u001b[1;31mNameError\u001b[0m: name 'gpd' is not defined"
     ]
    }
   ],
   "source": [
    "gpd.pd.set_option('display.max_columns',500)\n",
    "\n",
    "## reading in shape file\n",
    "geoFile = gpd.GeoDataFrame.from_file('Electric_Retail_Service_Territories.shp')\n",
    "## resetting names of locations for later joins \n",
    "geoFile.loc[(geoFile.NAME.str.contains('EDISON'))& (geoFile.STATE == 'IL'),'NAME'] ='COMED'\n",
    "geoFile.loc[geoFile.NAME ==('DAYTON POWER & LIGHT CO'),'NAME'] = 'DAYTON'\n",
    "#limiting the file size for geographic area of interest\n",
    "geoFile = geoFile[geoFile.CNTRL_AREA == 'PJM INTERCONNECTION, LLC'].copy()\n",
    "\n",
    "## Join to be done after ML completed \n",
    "#geoPowerdf = geoFile.merge(weatherPwrDf,how = 'left',left_on = 'NAME',right_on = 'Utility')"
   ]
  },
  {
   "cell_type": "code",
   "execution_count": 5,
   "metadata": {},
   "outputs": [],
   "source": [
    "geoFile.to_file('Electric_Retail_Service_Territories.shp')"
   ]
  },
  {
   "cell_type": "code",
   "execution_count": null,
   "metadata": {},
   "outputs": [],
   "source": []
  },
  {
   "cell_type": "code",
   "execution_count": null,
   "metadata": {},
   "outputs": [],
   "source": []
  },
  {
   "cell_type": "code",
   "execution_count": null,
   "metadata": {},
   "outputs": [],
   "source": []
  },
  {
   "cell_type": "code",
   "execution_count": null,
   "metadata": {},
   "outputs": [],
   "source": []
  },
  {
   "cell_type": "code",
   "execution_count": null,
   "metadata": {},
   "outputs": [],
   "source": []
  },
  {
   "cell_type": "code",
   "execution_count": null,
   "metadata": {},
   "outputs": [],
   "source": []
  },
  {
   "cell_type": "code",
   "execution_count": null,
   "metadata": {},
   "outputs": [],
   "source": []
  },
  {
   "cell_type": "code",
   "execution_count": null,
   "metadata": {},
   "outputs": [],
   "source": []
  },
  {
   "cell_type": "code",
   "execution_count": null,
   "metadata": {},
   "outputs": [],
   "source": []
  },
  {
   "cell_type": "code",
   "execution_count": null,
   "metadata": {},
   "outputs": [],
   "source": []
  },
  {
   "cell_type": "code",
   "execution_count": null,
   "metadata": {},
   "outputs": [],
   "source": []
  }
 ],
 "metadata": {
  "kernelspec": {
   "display_name": "Python 3",
   "language": "python",
   "name": "python3"
  },
  "language_info": {
   "codemirror_mode": {
    "name": "ipython",
    "version": 3
   },
   "file_extension": ".py",
   "mimetype": "text/x-python",
   "name": "python",
   "nbconvert_exporter": "python",
   "pygments_lexer": "ipython3",
   "version": "3.7.0"
  }
 },
 "nbformat": 4,
 "nbformat_minor": 2
}
