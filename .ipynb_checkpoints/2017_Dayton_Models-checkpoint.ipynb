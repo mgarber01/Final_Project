{
 "cells": [
  {
   "cell_type": "code",
   "execution_count": 1,
   "metadata": {},
   "outputs": [],
   "source": [
    "import matplotlib.pyplot as plt\n",
    "import pandas as pd\n",
    "import os\n",
    "from sklearn.metrics import confusion_matrix\n",
    "import numpy as np\n",
    "from sklearn.linear_model import LinearRegression\n",
    "model = LinearRegression()\n",
    "from sklearn.metrics import r2_score\n",
    "from sklearn.model_selection import train_test_split\n",
    "import matplotlib.pyplot as plt"
   ]
  },
  {
   "cell_type": "code",
   "execution_count": 2,
   "metadata": {},
   "outputs": [
    {
     "data": {
      "text/html": [
       "<div>\n",
       "<style scoped>\n",
       "    .dataframe tbody tr th:only-of-type {\n",
       "        vertical-align: middle;\n",
       "    }\n",
       "\n",
       "    .dataframe tbody tr th {\n",
       "        vertical-align: top;\n",
       "    }\n",
       "\n",
       "    .dataframe thead th {\n",
       "        text-align: right;\n",
       "    }\n",
       "</style>\n",
       "<table border=\"1\" class=\"dataframe\">\n",
       "  <thead>\n",
       "    <tr style=\"text-align: right;\">\n",
       "      <th></th>\n",
       "      <th>MW</th>\n",
       "      <th>Utility</th>\n",
       "      <th>Temp(f)</th>\n",
       "    </tr>\n",
       "  </thead>\n",
       "  <tbody>\n",
       "    <tr>\n",
       "      <th>0</th>\n",
       "      <td>1695.0</td>\n",
       "      <td>DAYTON</td>\n",
       "      <td>42.8</td>\n",
       "    </tr>\n",
       "    <tr>\n",
       "      <th>1</th>\n",
       "      <td>2266.0</td>\n",
       "      <td>DAYTON</td>\n",
       "      <td>8.6</td>\n",
       "    </tr>\n",
       "    <tr>\n",
       "      <th>2</th>\n",
       "      <td>2230.0</td>\n",
       "      <td>DAYTON</td>\n",
       "      <td>6.8</td>\n",
       "    </tr>\n",
       "    <tr>\n",
       "      <th>3</th>\n",
       "      <td>2205.0</td>\n",
       "      <td>DAYTON</td>\n",
       "      <td>5.0</td>\n",
       "    </tr>\n",
       "    <tr>\n",
       "      <th>4</th>\n",
       "      <td>2190.0</td>\n",
       "      <td>DAYTON</td>\n",
       "      <td>3.2</td>\n",
       "    </tr>\n",
       "  </tbody>\n",
       "</table>\n",
       "</div>"
      ],
      "text/plain": [
       "       MW Utility  Temp(f)\n",
       "0  1695.0  DAYTON     42.8\n",
       "1  2266.0  DAYTON      8.6\n",
       "2  2230.0  DAYTON      6.8\n",
       "3  2205.0  DAYTON      5.0\n",
       "4  2190.0  DAYTON      3.2"
      ]
     },
     "execution_count": 2,
     "metadata": {},
     "output_type": "execute_result"
    }
   ],
   "source": [
    "df17d = pd.read_csv(os.path.join('df17D.csv'))\n",
    "del df17d['Unnamed: 0']\n",
    "del df17d['Year']\n",
    "del df17d['Month']\n",
    "del df17d['Day']\n",
    "del df17d['Day_of_Week']\n",
    "del df17d['Weekend']\n",
    "del df17d['Datetime']\n",
    "\n",
    "df17d.head()"
   ]
  },
  {
   "cell_type": "code",
   "execution_count": 5,
   "metadata": {},
   "outputs": [],
   "source": [
    "df_2017pos = df17d[df17d['Temp(f)'] >= 60].copy()\n",
    "df_2017neg = df17d[df17d['Temp(f)'] < 60].copy()"
   ]
  },
  {
   "cell_type": "code",
   "execution_count": 6,
   "metadata": {},
   "outputs": [
    {
     "name": "stdout",
     "output_type": "stream",
     "text": [
      "Shape:  (4320, 1) (4320, 1)\n"
     ]
    }
   ],
   "source": [
    "X = df_2017pos[\"Temp(f)\"].values.reshape(-1, 1)\n",
    "y = df_2017pos[\"MW\"].values.reshape(-1, 1)\n",
    "print(\"Shape: \", X.shape, y.shape)"
   ]
  },
  {
   "cell_type": "code",
   "execution_count": 7,
   "metadata": {},
   "outputs": [
    {
     "data": {
      "image/png": "[encoded data removed]",
      "text/plain": [
       "<Figure size 432x288 with 1 Axes>"
      ]
     },
     "metadata": {
      "needs_background": "light"
     },
     "output_type": "display_data"
    }
   ],
   "source": [
    "plt.scatter(X, y,color='g')\n",
    "plt.title(\"2017 Dayton Data Plotted (temp>60)\")\n",
    "plt.show()"
   ]
  },
  {
   "cell_type": "code",
   "execution_count": 12,
   "metadata": {},
   "outputs": [],
   "source": [
    "from sklearn.model_selection import train_test_split\n",
    "model = LinearRegression()\n",
    "\n",
    "X_train, X_test, y_train, y_test = train_test_split(X, y, random_state=14)"
   ]
  },
  {
   "cell_type": "code",
   "execution_count": 13,
   "metadata": {},
   "outputs": [
    {
     "name": "stdout",
     "output_type": "stream",
     "text": [
      "Training Score: 0.3213887483047767\n",
      "Testing Score: 0.3377765716361497\n"
     ]
    }
   ],
   "source": [
    "model.fit(X_train, y_train)\n",
    "training_score = model.score(X_train, y_train)\n",
    "testing_score = model.score(X_test, y_test)\n",
    "\n",
    "print(f\"Training Score: {training_score}\")\n",
    "print(f\"Testing Score: {testing_score}\")"
   ]
  },
  {
   "cell_type": "code",
   "execution_count": 14,
   "metadata": {},
   "outputs": [
    {
     "data": {
      "image/png": "[encoded data removed]",
      "text/plain": [
       "<Figure size 432x288 with 1 Axes>"
      ]
     },
     "metadata": {
      "needs_background": "light"
     },
     "output_type": "display_data"
    }
   ],
   "source": [
    "predictions = model.predict(X)\n",
    "# Plot Residuals\n",
    "plt.scatter(predictions, predictions - y)\n",
    "plt.hlines(y=0, xmin=predictions.min(), xmax=predictions.max())\n",
    "plt.title(\"Residual Plot\")\n",
    "plt.show()"
   ]
  },
  {
   "cell_type": "code",
   "execution_count": 15,
   "metadata": {},
   "outputs": [
    {
     "data": {
      "text/plain": [
       "Text(0.5, 1.0, 'Residual Plot With Trained and Test Data')"
      ]
     },
     "execution_count": 15,
     "metadata": {},
     "output_type": "execute_result"
    },
    {
     "data": {
      "image/png": "[encoded data removed]",
      "text/plain": [
       "<Figure size 432x288 with 1 Axes>"
      ]
     },
     "metadata": {
      "needs_background": "light"
     },
     "output_type": "display_data"
    }
   ],
   "source": [
    "plt.scatter(model.predict(X_train), model.predict(X_train) - y_train, c=\"blue\", label=\"Training Data\")\n",
    "plt.scatter(model.predict(X_test), model.predict(X_test) - y_test, c=\"orange\", label=\"Testing Data\")\n",
    "plt.legend()\n",
    "plt.hlines(y=0, xmin=y.min(), xmax=y.max())\n",
    "plt.title(\"Residual Plot With Trained and Test Data\")"
   ]
  },
  {
   "cell_type": "code",
   "execution_count": 16,
   "metadata": {},
   "outputs": [
    {
     "name": "stdout",
     "output_type": "stream",
     "text": [
      "Weight coefficients:  [[29.43651949]]\n",
      "y-axis intercept:  [-150.83901229]\n"
     ]
    }
   ],
   "source": [
    "print('Weight coefficients: ', model.coef_)\n",
    "print('y-axis intercept: ', model.intercept_)"
   ]
  },
  {
   "cell_type": "code",
   "execution_count": 17,
   "metadata": {},
   "outputs": [
    {
     "name": "stdout",
     "output_type": "stream",
     "text": [
      "Actual Min Value: 1200.0\n",
      "Predicted Min Value: [[1638.90137257]]\n",
      "Actual Max Value: 3204.0\n",
      "Predicted Max Value: [[2592.64460398]]\n"
     ]
    }
   ],
   "source": [
    "y_min_actual = y.min()\n",
    "y_max_actual = y.max()\n",
    "x_min = X.min()\n",
    "x_max = X.max()\n",
    "y_min_predicted = model.predict([[x_min]])\n",
    "y_max_predicted = model.predict([[x_max]])\n",
    "print(f\"Actual Min Value: {y_min_actual}\")\n",
    "print(f\"Predicted Min Value: {y_min_predicted}\")\n",
    "print(f\"Actual Max Value: {y_max_actual}\")\n",
    "print(f\"Predicted Max Value: {y_max_predicted}\")\n",
    "y_min =  -150.83901229+ 29.43651949 * x_min\n",
    "y_max = -150.83901229+ 29.43651949 * x_max"
   ]
  },
  {
   "cell_type": "code",
   "execution_count": 18,
   "metadata": {},
   "outputs": [
    {
     "data": {
      "text/plain": [
       "[<matplotlib.lines.Line2D at 0x1ba0586d358>]"
      ]
     },
     "execution_count": 18,
     "metadata": {},
     "output_type": "execute_result"
    },
    {
     "data": {
      "image/png": "[encoded data removed]",
      "text/plain": [
       "<Figure size 432x288 with 1 Axes>"
      ]
     },
     "metadata": {
      "needs_background": "light"
     },
     "output_type": "display_data"
    }
   ],
   "source": [
    "plt.scatter(X, y, c='blue')\n",
    "plt.title(\"Plot With Model for 2015 Chicago (Temp>60)\")\n",
    "plt.plot([x_min, x_max], [y_min, y_max], c='red')"
   ]
  },
  {
   "cell_type": "code",
   "execution_count": 19,
   "metadata": {},
   "outputs": [
    {
     "name": "stdout",
     "output_type": "stream",
     "text": [
      "True output: [1701.]\n",
      "Predicted output: [1691.88710765]\n",
      "Prediction Error: [-9.11289235]\n"
     ]
    }
   ],
   "source": [
    "predictions = model.predict(X)\n",
    "print(f\"True output: {y[0]}\")\n",
    "print(f\"Predicted output: {predictions[0]}\")\n",
    "print(f\"Prediction Error: {predictions[0]-y[0]}\")"
   ]
  },
  {
   "cell_type": "code",
   "execution_count": 28,
   "metadata": {},
   "outputs": [
    {
     "name": "stdout",
     "output_type": "stream",
     "text": [
      "Shape:  (4402, 1) (4402, 1)\n"
     ]
    }
   ],
   "source": [
    "X = df_2017neg[\"Temp(f)\"].values.reshape(-1, 1)\n",
    "y = df_2017neg[\"MW\"].values.reshape(-1, 1)\n",
    "print(\"Shape: \", X.shape, y.shape)"
   ]
  },
  {
   "cell_type": "code",
   "execution_count": 29,
   "metadata": {},
   "outputs": [
    {
     "data": {
      "image/png": "[encoded data removed]",
      "text/plain": [
       "<Figure size 432x288 with 1 Axes>"
      ]
     },
     "metadata": {
      "needs_background": "light"
     },
     "output_type": "display_data"
    }
   ],
   "source": [
    "plt.scatter(X, y,color='g')\n",
    "plt.title(\"2017 Dayton Data Plotted (temp<60)\")\n",
    "plt.show()"
   ]
  },
  {
   "cell_type": "code",
   "execution_count": 32,
   "metadata": {},
   "outputs": [],
   "source": [
    "from sklearn.model_selection import train_test_split\n",
    "model = LinearRegression()\n",
    "\n",
    "X_train, X_test, y_train, y_test = train_test_split(X, y, random_state=6)"
   ]
  },
  {
   "cell_type": "code",
   "execution_count": 33,
   "metadata": {},
   "outputs": [
    {
     "name": "stdout",
     "output_type": "stream",
     "text": [
      "Training Score: 0.352557213234183\n",
      "Testing Score: 0.37886260288118284\n"
     ]
    }
   ],
   "source": [
    "model.fit(X_train, y_train)\n",
    "training_score = model.score(X_train, y_train)\n",
    "testing_score = model.score(X_test, y_test)\n",
    "\n",
    "print(f\"Training Score: {training_score}\")\n",
    "print(f\"Testing Score: {testing_score}\")"
   ]
  },
  {
   "cell_type": "code",
   "execution_count": 34,
   "metadata": {},
   "outputs": [
    {
     "data": {
      "image/png": "[encoded data removed]",
      "text/plain": [
       "<Figure size 432x288 with 1 Axes>"
      ]
     },
     "metadata": {
      "needs_background": "light"
     },
     "output_type": "display_data"
    }
   ],
   "source": [
    "predictions = model.predict(X)\n",
    "# Plot Residuals\n",
    "plt.scatter(predictions, predictions - y)\n",
    "plt.hlines(y=0, xmin=predictions.min(), xmax=predictions.max())\n",
    "plt.title(\"Residual Plot\")\n",
    "plt.show()"
   ]
  },
  {
   "cell_type": "code",
   "execution_count": 35,
   "metadata": {},
   "outputs": [
    {
     "data": {
      "text/plain": [
       "Text(0.5, 1.0, 'Residual Plot With Trained and Test Data')"
      ]
     },
     "execution_count": 35,
     "metadata": {},
     "output_type": "execute_result"
    },
    {
     "data": {
      "image/png": "[encoded data removed]",
      "text/plain": [
       "<Figure size 432x288 with 1 Axes>"
      ]
     },
     "metadata": {
      "needs_background": "light"
     },
     "output_type": "display_data"
    }
   ],
   "source": [
    "plt.scatter(model.predict(X_train), model.predict(X_train) - y_train, c=\"blue\", label=\"Training Data\")\n",
    "plt.scatter(model.predict(X_test), model.predict(X_test) - y_test, c=\"orange\", label=\"Testing Data\")\n",
    "plt.legend()\n",
    "plt.hlines(y=0, xmin=y.min(), xmax=y.max())\n",
    "plt.title(\"Residual Plot With Trained and Test Data\")"
   ]
  },
  {
   "cell_type": "code",
   "execution_count": 36,
   "metadata": {},
   "outputs": [
    {
     "name": "stdout",
     "output_type": "stream",
     "text": [
      "Weight coefficients:  [[-14.19485346]]\n",
      "y-axis intercept:  [2560.59104754]\n"
     ]
    }
   ],
   "source": [
    "print('Weight coefficients: ', model.coef_)\n",
    "print('y-axis intercept: ', model.intercept_)"
   ]
  },
  {
   "cell_type": "code",
   "execution_count": 37,
   "metadata": {},
   "outputs": [
    {
     "name": "stdout",
     "output_type": "stream",
     "text": [
      "Actual Min Value: 1151.0\n",
      "Predicted Min Value: [[2540.71825269]]\n",
      "Actual Max Value: 2812.0\n",
      "Predicted Max Value: [[1723.09469314]]\n"
     ]
    }
   ],
   "source": [
    "y_min_actual = y.min()\n",
    "y_max_actual = y.max()\n",
    "x_min = X.min()\n",
    "x_max = X.max()\n",
    "y_min_predicted = model.predict([[x_min]])\n",
    "y_max_predicted = model.predict([[x_max]])\n",
    "print(f\"Actual Min Value: {y_min_actual}\")\n",
    "print(f\"Predicted Min Value: {y_min_predicted}\")\n",
    "print(f\"Actual Max Value: {y_max_actual}\")\n",
    "print(f\"Predicted Max Value: {y_max_predicted}\")\n",
    "y_min =  2560.59104754+ (-14.19485346 * x_min)\n",
    "y_max = 2560.59104754+ (-14.19485346 * x_max)"
   ]
  },
  {
   "cell_type": "code",
   "execution_count": 38,
   "metadata": {},
   "outputs": [
    {
     "data": {
      "text/plain": [
       "[<matplotlib.lines.Line2D at 0x1ba05c88198>]"
      ]
     },
     "execution_count": 38,
     "metadata": {},
     "output_type": "execute_result"
    },
    {
     "data": {
      "image/png": "[encoded data removed]",
      "text/plain": [
       "<Figure size 432x288 with 1 Axes>"
      ]
     },
     "metadata": {
      "needs_background": "light"
     },
     "output_type": "display_data"
    }
   ],
   "source": [
    "plt.scatter(X, y, c='blue')\n",
    "plt.title(\"Plot With Model for 2017 Dayton (Temp<60)\")\n",
    "plt.plot([x_min, x_max], [y_min, y_max], c='red')"
   ]
  },
  {
   "cell_type": "code",
   "execution_count": 39,
   "metadata": {},
   "outputs": [
    {
     "name": "stdout",
     "output_type": "stream",
     "text": [
      "True output: [1695.]\n",
      "Predicted output: [1953.05131926]\n",
      "Prediction Error: [258.05131926]\n"
     ]
    }
   ],
   "source": [
    "predictions = model.predict(X)\n",
    "print(f\"True output: {y[0]}\")\n",
    "print(f\"Predicted output: {predictions[0]}\")\n",
    "print(f\"Prediction Error: {predictions[0]-y[0]}\")"
   ]
  },
  {
   "cell_type": "code",
   "execution_count": 40,
   "metadata": {},
   "outputs": [],
   "source": [
    "modeldf = pd.DataFrame()\n",
    "for x in range(len(predictions)):\n",
    "   modeldf = modeldf.append({\"Predicted\": predictions[x][0], \"Actual\": y[x][0], \"Error\": predictions[x][0] - y[x][0]},ignore_index = True)"
   ]
  },
  {
   "cell_type": "code",
   "execution_count": 43,
   "metadata": {},
   "outputs": [
    {
     "data": {
      "text/html": [
       "<div>\n",
       "<style scoped>\n",
       "    .dataframe tbody tr th:only-of-type {\n",
       "        vertical-align: middle;\n",
       "    }\n",
       "\n",
       "    .dataframe tbody tr th {\n",
       "        vertical-align: top;\n",
       "    }\n",
       "\n",
       "    .dataframe thead th {\n",
       "        text-align: right;\n",
       "    }\n",
       "</style>\n",
       "<table border=\"1\" class=\"dataframe\">\n",
       "  <thead>\n",
       "    <tr style=\"text-align: right;\">\n",
       "      <th></th>\n",
       "      <th>Actual</th>\n",
       "      <th>Error</th>\n",
       "      <th>Predicted</th>\n",
       "    </tr>\n",
       "  </thead>\n",
       "  <tbody>\n",
       "    <tr>\n",
       "      <th>0</th>\n",
       "      <td>1695.0</td>\n",
       "      <td>258.051319</td>\n",
       "      <td>1953.051319</td>\n",
       "    </tr>\n",
       "    <tr>\n",
       "      <th>1</th>\n",
       "      <td>2266.0</td>\n",
       "      <td>172.515308</td>\n",
       "      <td>2438.515308</td>\n",
       "    </tr>\n",
       "    <tr>\n",
       "      <th>2</th>\n",
       "      <td>2230.0</td>\n",
       "      <td>234.066044</td>\n",
       "      <td>2464.066044</td>\n",
       "    </tr>\n",
       "    <tr>\n",
       "      <th>3</th>\n",
       "      <td>2205.0</td>\n",
       "      <td>284.616780</td>\n",
       "      <td>2489.616780</td>\n",
       "    </tr>\n",
       "    <tr>\n",
       "      <th>4</th>\n",
       "      <td>2190.0</td>\n",
       "      <td>325.167516</td>\n",
       "      <td>2515.167516</td>\n",
       "    </tr>\n",
       "    <tr>\n",
       "      <th>5</th>\n",
       "      <td>2185.0</td>\n",
       "      <td>304.616780</td>\n",
       "      <td>2489.616780</td>\n",
       "    </tr>\n",
       "    <tr>\n",
       "      <th>6</th>\n",
       "      <td>2213.0</td>\n",
       "      <td>276.616780</td>\n",
       "      <td>2489.616780</td>\n",
       "    </tr>\n",
       "    <tr>\n",
       "      <th>7</th>\n",
       "      <td>2280.0</td>\n",
       "      <td>184.066044</td>\n",
       "      <td>2464.066044</td>\n",
       "    </tr>\n",
       "    <tr>\n",
       "      <th>8</th>\n",
       "      <td>2341.0</td>\n",
       "      <td>123.066044</td>\n",
       "      <td>2464.066044</td>\n",
       "    </tr>\n",
       "    <tr>\n",
       "      <th>9</th>\n",
       "      <td>2392.0</td>\n",
       "      <td>72.066044</td>\n",
       "      <td>2464.066044</td>\n",
       "    </tr>\n",
       "    <tr>\n",
       "      <th>10</th>\n",
       "      <td>2459.0</td>\n",
       "      <td>5.066044</td>\n",
       "      <td>2464.066044</td>\n",
       "    </tr>\n",
       "    <tr>\n",
       "      <th>11</th>\n",
       "      <td>2463.0</td>\n",
       "      <td>1.066044</td>\n",
       "      <td>2464.066044</td>\n",
       "    </tr>\n",
       "    <tr>\n",
       "      <th>12</th>\n",
       "      <td>2399.0</td>\n",
       "      <td>65.066044</td>\n",
       "      <td>2464.066044</td>\n",
       "    </tr>\n",
       "    <tr>\n",
       "      <th>13</th>\n",
       "      <td>2307.0</td>\n",
       "      <td>157.066044</td>\n",
       "      <td>2464.066044</td>\n",
       "    </tr>\n",
       "    <tr>\n",
       "      <th>14</th>\n",
       "      <td>2260.0</td>\n",
       "      <td>229.616780</td>\n",
       "      <td>2489.616780</td>\n",
       "    </tr>\n",
       "    <tr>\n",
       "      <th>15</th>\n",
       "      <td>2235.0</td>\n",
       "      <td>203.515308</td>\n",
       "      <td>2438.515308</td>\n",
       "    </tr>\n",
       "    <tr>\n",
       "      <th>16</th>\n",
       "      <td>2231.0</td>\n",
       "      <td>207.515308</td>\n",
       "      <td>2438.515308</td>\n",
       "    </tr>\n",
       "    <tr>\n",
       "      <th>17</th>\n",
       "      <td>2297.0</td>\n",
       "      <td>90.413835</td>\n",
       "      <td>2387.413835</td>\n",
       "    </tr>\n",
       "    <tr>\n",
       "      <th>18</th>\n",
       "      <td>2432.0</td>\n",
       "      <td>-44.586165</td>\n",
       "      <td>2387.413835</td>\n",
       "    </tr>\n",
       "    <tr>\n",
       "      <th>19</th>\n",
       "      <td>2514.0</td>\n",
       "      <td>-152.136901</td>\n",
       "      <td>2361.863099</td>\n",
       "    </tr>\n",
       "    <tr>\n",
       "      <th>20</th>\n",
       "      <td>2484.0</td>\n",
       "      <td>-147.687637</td>\n",
       "      <td>2336.312363</td>\n",
       "    </tr>\n",
       "    <tr>\n",
       "      <th>21</th>\n",
       "      <td>2452.0</td>\n",
       "      <td>-115.687637</td>\n",
       "      <td>2336.312363</td>\n",
       "    </tr>\n",
       "    <tr>\n",
       "      <th>22</th>\n",
       "      <td>2421.0</td>\n",
       "      <td>-33.586165</td>\n",
       "      <td>2387.413835</td>\n",
       "    </tr>\n",
       "    <tr>\n",
       "      <th>23</th>\n",
       "      <td>2375.0</td>\n",
       "      <td>12.413835</td>\n",
       "      <td>2387.413835</td>\n",
       "    </tr>\n",
       "    <tr>\n",
       "      <th>24</th>\n",
       "      <td>2047.0</td>\n",
       "      <td>212.660154</td>\n",
       "      <td>2259.660154</td>\n",
       "    </tr>\n",
       "    <tr>\n",
       "      <th>25</th>\n",
       "      <td>1985.0</td>\n",
       "      <td>274.660154</td>\n",
       "      <td>2259.660154</td>\n",
       "    </tr>\n",
       "    <tr>\n",
       "      <th>26</th>\n",
       "      <td>1954.0</td>\n",
       "      <td>305.660154</td>\n",
       "      <td>2259.660154</td>\n",
       "    </tr>\n",
       "    <tr>\n",
       "      <th>27</th>\n",
       "      <td>1942.0</td>\n",
       "      <td>317.660154</td>\n",
       "      <td>2259.660154</td>\n",
       "    </tr>\n",
       "    <tr>\n",
       "      <th>28</th>\n",
       "      <td>1953.0</td>\n",
       "      <td>306.660154</td>\n",
       "      <td>2259.660154</td>\n",
       "    </tr>\n",
       "    <tr>\n",
       "      <th>29</th>\n",
       "      <td>1994.0</td>\n",
       "      <td>291.210890</td>\n",
       "      <td>2285.210890</td>\n",
       "    </tr>\n",
       "    <tr>\n",
       "      <th>...</th>\n",
       "      <td>...</td>\n",
       "      <td>...</td>\n",
       "      <td>...</td>\n",
       "    </tr>\n",
       "    <tr>\n",
       "      <th>4372</th>\n",
       "      <td>2003.0</td>\n",
       "      <td>-177.702362</td>\n",
       "      <td>1825.297638</td>\n",
       "    </tr>\n",
       "    <tr>\n",
       "      <th>4373</th>\n",
       "      <td>1966.0</td>\n",
       "      <td>-191.803834</td>\n",
       "      <td>1774.196166</td>\n",
       "    </tr>\n",
       "    <tr>\n",
       "      <th>4374</th>\n",
       "      <td>1920.0</td>\n",
       "      <td>-145.803834</td>\n",
       "      <td>1774.196166</td>\n",
       "    </tr>\n",
       "    <tr>\n",
       "      <th>4375</th>\n",
       "      <td>1842.0</td>\n",
       "      <td>-67.803834</td>\n",
       "      <td>1774.196166</td>\n",
       "    </tr>\n",
       "    <tr>\n",
       "      <th>4376</th>\n",
       "      <td>1743.0</td>\n",
       "      <td>31.196166</td>\n",
       "      <td>1774.196166</td>\n",
       "    </tr>\n",
       "    <tr>\n",
       "      <th>4377</th>\n",
       "      <td>1661.0</td>\n",
       "      <td>113.196166</td>\n",
       "      <td>1774.196166</td>\n",
       "    </tr>\n",
       "    <tr>\n",
       "      <th>4378</th>\n",
       "      <td>1644.0</td>\n",
       "      <td>309.051319</td>\n",
       "      <td>1953.051319</td>\n",
       "    </tr>\n",
       "    <tr>\n",
       "      <th>4379</th>\n",
       "      <td>1608.0</td>\n",
       "      <td>345.051319</td>\n",
       "      <td>1953.051319</td>\n",
       "    </tr>\n",
       "    <tr>\n",
       "      <th>4380</th>\n",
       "      <td>1584.0</td>\n",
       "      <td>369.051319</td>\n",
       "      <td>1953.051319</td>\n",
       "    </tr>\n",
       "    <tr>\n",
       "      <th>4381</th>\n",
       "      <td>1570.0</td>\n",
       "      <td>383.051319</td>\n",
       "      <td>1953.051319</td>\n",
       "    </tr>\n",
       "    <tr>\n",
       "      <th>4382</th>\n",
       "      <td>1597.0</td>\n",
       "      <td>356.051319</td>\n",
       "      <td>1953.051319</td>\n",
       "    </tr>\n",
       "    <tr>\n",
       "      <th>4383</th>\n",
       "      <td>1639.0</td>\n",
       "      <td>314.051319</td>\n",
       "      <td>1953.051319</td>\n",
       "    </tr>\n",
       "    <tr>\n",
       "      <th>4384</th>\n",
       "      <td>1682.0</td>\n",
       "      <td>322.152792</td>\n",
       "      <td>2004.152792</td>\n",
       "    </tr>\n",
       "    <tr>\n",
       "      <th>4385</th>\n",
       "      <td>1744.0</td>\n",
       "      <td>311.254264</td>\n",
       "      <td>2055.254264</td>\n",
       "    </tr>\n",
       "    <tr>\n",
       "      <th>4386</th>\n",
       "      <td>1774.0</td>\n",
       "      <td>281.254264</td>\n",
       "      <td>2055.254264</td>\n",
       "    </tr>\n",
       "    <tr>\n",
       "      <th>4387</th>\n",
       "      <td>1785.0</td>\n",
       "      <td>346.906473</td>\n",
       "      <td>2131.906473</td>\n",
       "    </tr>\n",
       "    <tr>\n",
       "      <th>4388</th>\n",
       "      <td>1771.0</td>\n",
       "      <td>309.805000</td>\n",
       "      <td>2080.805000</td>\n",
       "    </tr>\n",
       "    <tr>\n",
       "      <th>4389</th>\n",
       "      <td>1737.0</td>\n",
       "      <td>394.906473</td>\n",
       "      <td>2131.906473</td>\n",
       "    </tr>\n",
       "    <tr>\n",
       "      <th>4390</th>\n",
       "      <td>1727.0</td>\n",
       "      <td>379.355737</td>\n",
       "      <td>2106.355737</td>\n",
       "    </tr>\n",
       "    <tr>\n",
       "      <th>4391</th>\n",
       "      <td>1675.0</td>\n",
       "      <td>456.906473</td>\n",
       "      <td>2131.906473</td>\n",
       "    </tr>\n",
       "    <tr>\n",
       "      <th>4392</th>\n",
       "      <td>1650.0</td>\n",
       "      <td>430.805000</td>\n",
       "      <td>2080.805000</td>\n",
       "    </tr>\n",
       "    <tr>\n",
       "      <th>4393</th>\n",
       "      <td>1653.0</td>\n",
       "      <td>402.254264</td>\n",
       "      <td>2055.254264</td>\n",
       "    </tr>\n",
       "    <tr>\n",
       "      <th>4394</th>\n",
       "      <td>1693.0</td>\n",
       "      <td>311.152792</td>\n",
       "      <td>2004.152792</td>\n",
       "    </tr>\n",
       "    <tr>\n",
       "      <th>4395</th>\n",
       "      <td>1827.0</td>\n",
       "      <td>126.051319</td>\n",
       "      <td>1953.051319</td>\n",
       "    </tr>\n",
       "    <tr>\n",
       "      <th>4396</th>\n",
       "      <td>1882.0</td>\n",
       "      <td>45.500583</td>\n",
       "      <td>1927.500583</td>\n",
       "    </tr>\n",
       "    <tr>\n",
       "      <th>4397</th>\n",
       "      <td>1866.0</td>\n",
       "      <td>35.949847</td>\n",
       "      <td>1901.949847</td>\n",
       "    </tr>\n",
       "    <tr>\n",
       "      <th>4398</th>\n",
       "      <td>1845.0</td>\n",
       "      <td>56.949847</td>\n",
       "      <td>1901.949847</td>\n",
       "    </tr>\n",
       "    <tr>\n",
       "      <th>4399</th>\n",
       "      <td>1774.0</td>\n",
       "      <td>127.949847</td>\n",
       "      <td>1901.949847</td>\n",
       "    </tr>\n",
       "    <tr>\n",
       "      <th>4400</th>\n",
       "      <td>1720.0</td>\n",
       "      <td>233.051319</td>\n",
       "      <td>1953.051319</td>\n",
       "    </tr>\n",
       "    <tr>\n",
       "      <th>4401</th>\n",
       "      <td>1633.0</td>\n",
       "      <td>320.051319</td>\n",
       "      <td>1953.051319</td>\n",
       "    </tr>\n",
       "  </tbody>\n",
       "</table>\n",
       "<p>4402 rows × 3 columns</p>\n",
       "</div>"
      ],
      "text/plain": [
       "      Actual       Error    Predicted\n",
       "0     1695.0  258.051319  1953.051319\n",
       "1     2266.0  172.515308  2438.515308\n",
       "2     2230.0  234.066044  2464.066044\n",
       "3     2205.0  284.616780  2489.616780\n",
       "4     2190.0  325.167516  2515.167516\n",
       "5     2185.0  304.616780  2489.616780\n",
       "6     2213.0  276.616780  2489.616780\n",
       "7     2280.0  184.066044  2464.066044\n",
       "8     2341.0  123.066044  2464.066044\n",
       "9     2392.0   72.066044  2464.066044\n",
       "10    2459.0    5.066044  2464.066044\n",
       "11    2463.0    1.066044  2464.066044\n",
       "12    2399.0   65.066044  2464.066044\n",
       "13    2307.0  157.066044  2464.066044\n",
       "14    2260.0  229.616780  2489.616780\n",
       "15    2235.0  203.515308  2438.515308\n",
       "16    2231.0  207.515308  2438.515308\n",
       "17    2297.0   90.413835  2387.413835\n",
       "18    2432.0  -44.586165  2387.413835\n",
       "19    2514.0 -152.136901  2361.863099\n",
       "20    2484.0 -147.687637  2336.312363\n",
       "21    2452.0 -115.687637  2336.312363\n",
       "22    2421.0  -33.586165  2387.413835\n",
       "23    2375.0   12.413835  2387.413835\n",
       "24    2047.0  212.660154  2259.660154\n",
       "25    1985.0  274.660154  2259.660154\n",
       "26    1954.0  305.660154  2259.660154\n",
       "27    1942.0  317.660154  2259.660154\n",
       "28    1953.0  306.660154  2259.660154\n",
       "29    1994.0  291.210890  2285.210890\n",
       "...      ...         ...          ...\n",
       "4372  2003.0 -177.702362  1825.297638\n",
       "4373  1966.0 -191.803834  1774.196166\n",
       "4374  1920.0 -145.803834  1774.196166\n",
       "4375  1842.0  -67.803834  1774.196166\n",
       "4376  1743.0   31.196166  1774.196166\n",
       "4377  1661.0  113.196166  1774.196166\n",
       "4378  1644.0  309.051319  1953.051319\n",
       "4379  1608.0  345.051319  1953.051319\n",
       "4380  1584.0  369.051319  1953.051319\n",
       "4381  1570.0  383.051319  1953.051319\n",
       "4382  1597.0  356.051319  1953.051319\n",
       "4383  1639.0  314.051319  1953.051319\n",
       "4384  1682.0  322.152792  2004.152792\n",
       "4385  1744.0  311.254264  2055.254264\n",
       "4386  1774.0  281.254264  2055.254264\n",
       "4387  1785.0  346.906473  2131.906473\n",
       "4388  1771.0  309.805000  2080.805000\n",
       "4389  1737.0  394.906473  2131.906473\n",
       "4390  1727.0  379.355737  2106.355737\n",
       "4391  1675.0  456.906473  2131.906473\n",
       "4392  1650.0  430.805000  2080.805000\n",
       "4393  1653.0  402.254264  2055.254264\n",
       "4394  1693.0  311.152792  2004.152792\n",
       "4395  1827.0  126.051319  1953.051319\n",
       "4396  1882.0   45.500583  1927.500583\n",
       "4397  1866.0   35.949847  1901.949847\n",
       "4398  1845.0   56.949847  1901.949847\n",
       "4399  1774.0  127.949847  1901.949847\n",
       "4400  1720.0  233.051319  1953.051319\n",
       "4401  1633.0  320.051319  1953.051319\n",
       "\n",
       "[4402 rows x 3 columns]"
      ]
     },
     "execution_count": 43,
     "metadata": {},
     "output_type": "execute_result"
    }
   ],
   "source": [
    "modeldf"
   ]
  }
 ],
 "metadata": {
  "kernelspec": {
   "display_name": "Python 3",
   "language": "python",
   "name": "python3"
  },
  "language_info": {
   "codemirror_mode": {
    "name": "ipython",
    "version": 3
   },
   "file_extension": ".py",
   "mimetype": "text/x-python",
   "name": "python",
   "nbconvert_exporter": "python",
   "pygments_lexer": "ipython3",
   "version": "3.7.0"
  }
 },
 "nbformat": 4,
 "nbformat_minor": 2
}
