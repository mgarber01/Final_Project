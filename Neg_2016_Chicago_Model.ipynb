{
 "cells": [
  {
   "cell_type": "code",
   "execution_count": 1,
   "metadata": {},
   "outputs": [],
   "source": [
    "import matplotlib.pyplot as plt\n",
    "import pandas as pd\n",
    "import os\n",
    "from sklearn.metrics import confusion_matrix\n",
    "import numpy as np\n",
    "from sklearn.linear_model import LinearRegression\n",
    "model = LinearRegression()\n",
    "from sklearn.metrics import r2_score\n",
    "from sklearn.model_selection import train_test_split\n",
    "import matplotlib.pyplot as plt"
   ]
  },
  {
   "cell_type": "code",
   "execution_count": 2,
   "metadata": {},
   "outputs": [
    {
     "data": {
      "text/html": [
       "<div>\n",
       "<style scoped>\n",
       "    .dataframe tbody tr th:only-of-type {\n",
       "        vertical-align: middle;\n",
       "    }\n",
       "\n",
       "    .dataframe tbody tr th {\n",
       "        vertical-align: top;\n",
       "    }\n",
       "\n",
       "    .dataframe thead th {\n",
       "        text-align: right;\n",
       "    }\n",
       "</style>\n",
       "<table border=\"1\" class=\"dataframe\">\n",
       "  <thead>\n",
       "    <tr style=\"text-align: right;\">\n",
       "      <th></th>\n",
       "      <th>MW</th>\n",
       "      <th>Utility</th>\n",
       "      <th>Temp(f)</th>\n",
       "    </tr>\n",
       "  </thead>\n",
       "  <tbody>\n",
       "    <tr>\n",
       "      <th>0</th>\n",
       "      <td>10419.0</td>\n",
       "      <td>COMED</td>\n",
       "      <td>32.0</td>\n",
       "    </tr>\n",
       "    <tr>\n",
       "      <th>1</th>\n",
       "      <td>9940.0</td>\n",
       "      <td>COMED</td>\n",
       "      <td>32.0</td>\n",
       "    </tr>\n",
       "    <tr>\n",
       "      <th>2</th>\n",
       "      <td>9604.0</td>\n",
       "      <td>COMED</td>\n",
       "      <td>35.6</td>\n",
       "    </tr>\n",
       "    <tr>\n",
       "      <th>3</th>\n",
       "      <td>9318.0</td>\n",
       "      <td>COMED</td>\n",
       "      <td>37.4</td>\n",
       "    </tr>\n",
       "    <tr>\n",
       "      <th>4</th>\n",
       "      <td>9224.0</td>\n",
       "      <td>COMED</td>\n",
       "      <td>37.4</td>\n",
       "    </tr>\n",
       "  </tbody>\n",
       "</table>\n",
       "</div>"
      ],
      "text/plain": [
       "        MW Utility  Temp(f)\n",
       "0  10419.0   COMED     32.0\n",
       "1   9940.0   COMED     32.0\n",
       "2   9604.0   COMED     35.6\n",
       "3   9318.0   COMED     37.4\n",
       "4   9224.0   COMED     37.4"
      ]
     },
     "execution_count": 2,
     "metadata": {},
     "output_type": "execute_result"
    }
   ],
   "source": [
    "df16 = pd.read_csv(os.path.join('2016_Data'))\n",
    "del df16['Unnamed: 0']\n",
    "del df16['Year']\n",
    "del df16['Month']\n",
    "del df16['Day']\n",
    "del df16['Day_of_Week']\n",
    "del df16['Weekend']\n",
    "del df16['Datetime']\n",
    "\n",
    "df16.head()"
   ]
  },
  {
   "cell_type": "code",
   "execution_count": 3,
   "metadata": {},
   "outputs": [],
   "source": [
    "df_2016 = df16"
   ]
  },
  {
   "cell_type": "code",
   "execution_count": 4,
   "metadata": {},
   "outputs": [],
   "source": [
    "df_2016c = df_2016[df_2016.Utility == 'COMED'].copy()"
   ]
  },
  {
   "cell_type": "code",
   "execution_count": 5,
   "metadata": {},
   "outputs": [],
   "source": [
    "df_2016neg = df_2016c[df_2016c['Temp(f)'] < 60].copy()"
   ]
  },
  {
   "cell_type": "code",
   "execution_count": 6,
   "metadata": {},
   "outputs": [],
   "source": [
    "droplist = df_2016neg[(df_2016neg['Temp(f)'] < 25) & (df_2016neg.MW > 14000)].index\n",
    "df_2016neg.drop(droplist,inplace = True)"
   ]
  },
  {
   "cell_type": "code",
   "execution_count": 7,
   "metadata": {},
   "outputs": [],
   "source": [
    "droplist2 = df_2016neg[(df_2016neg['Temp(f)'] < 60) & (df_2016neg['Temp(f)'] > 55)& (df_2016neg.MW > 12000)].index\n",
    "df_2016neg.drop(droplist2,inplace = True)\n"
   ]
  },
  {
   "cell_type": "code",
   "execution_count": 8,
   "metadata": {},
   "outputs": [],
   "source": [
    "droplist3 = df_2016neg[(df_2016neg['Temp(f)'] < 28) & (df_2016neg['Temp(f)'] > 34)& (df_2016neg.MW > 13700)].index\n",
    "df_2016neg.drop(droplist3,inplace = True)"
   ]
  },
  {
   "cell_type": "code",
   "execution_count": 9,
   "metadata": {},
   "outputs": [
    {
     "name": "stdout",
     "output_type": "stream",
     "text": [
      "Shape:  (3795, 1) (3795, 1)\n"
     ]
    }
   ],
   "source": [
    "X = df_2016neg[\"Temp(f)\"].values.reshape(-1, 1)\n",
    "y = df_2016neg[\"MW\"].values.reshape(-1, 1)\n",
    "print(\"Shape: \", X.shape, y.shape)"
   ]
  },
  {
   "cell_type": "code",
   "execution_count": 10,
   "metadata": {},
   "outputs": [
    {
     "data": {
      "image/png": "[encoded data removed]",
      "text/plain": [
       "<Figure size 432x288 with 1 Axes>"
      ]
     },
     "metadata": {
      "needs_background": "light"
     },
     "output_type": "display_data"
    }
   ],
   "source": [
    "plt.scatter(X, y,color='g')\n",
    "plt.title(\"Chicago 2016 Data Plotted (Temp<60)\")\n",
    "plt.show()"
   ]
  },
  {
   "cell_type": "code",
   "execution_count": 16,
   "metadata": {},
   "outputs": [],
   "source": [
    "from sklearn.model_selection import train_test_split\n",
    "model = LinearRegression()\n",
    "\n",
    "X_train, X_test, y_train, y_test = train_test_split(X, y, random_state=14)"
   ]
  },
  {
   "cell_type": "code",
   "execution_count": 17,
   "metadata": {},
   "outputs": [
    {
     "name": "stdout",
     "output_type": "stream",
     "text": [
      "Training Score: 0.30927274974285524\n",
      "Testing Score: 0.35624040078116637\n"
     ]
    }
   ],
   "source": [
    "model.fit(X_train, y_train)\n",
    "training_score = model.score(X_train, y_train)\n",
    "testing_score = model.score(X_test, y_test)\n",
    "\n",
    "print(f\"Training Score: {training_score}\")\n",
    "print(f\"Testing Score: {testing_score}\")"
   ]
  },
  {
   "cell_type": "code",
   "execution_count": 18,
   "metadata": {},
   "outputs": [
    {
     "data": {
      "image/png": "[encoded data removed]",
      "text/plain": [
       "<Figure size 432x288 with 1 Axes>"
      ]
     },
     "metadata": {
      "needs_background": "light"
     },
     "output_type": "display_data"
    }
   ],
   "source": [
    "predictions = model.predict(X)\n",
    "# Plot Residuals\n",
    "plt.scatter(predictions, predictions - y)\n",
    "plt.hlines(y=0, xmin=predictions.min(), xmax=predictions.max())\n",
    "plt.title(\"Residual Plot\")\n",
    "plt.show()"
   ]
  },
  {
   "cell_type": "code",
   "execution_count": 19,
   "metadata": {},
   "outputs": [
    {
     "data": {
      "text/plain": [
       "Text(0.5, 1.0, 'Residual Plot With Trained and Test Data')"
      ]
     },
     "execution_count": 19,
     "metadata": {},
     "output_type": "execute_result"
    },
    {
     "data": {
      "image/png": "[encoded data removed]",
      "text/plain": [
       "<Figure size 432x288 with 1 Axes>"
      ]
     },
     "metadata": {
      "needs_background": "light"
     },
     "output_type": "display_data"
    }
   ],
   "source": [
    "plt.scatter(model.predict(X_train), model.predict(X_train) - y_train, c=\"blue\", label=\"Training Data\")\n",
    "plt.scatter(model.predict(X_test), model.predict(X_test) - y_test, c=\"orange\", label=\"Testing Data\")\n",
    "plt.legend()\n",
    "plt.hlines(y=0, xmin=y.min(), xmax=y.max())\n",
    "plt.title(\"Residual Plot With Trained and Test Data\")"
   ]
  },
  {
   "cell_type": "code",
   "execution_count": 20,
   "metadata": {},
   "outputs": [
    {
     "name": "stdout",
     "output_type": "stream",
     "text": [
      "Weight coefficients:  [[-67.31969001]]\n",
      "y-axis intercept:  [13230.58683767]\n"
     ]
    }
   ],
   "source": [
    "print('Weight coefficients: ', model.coef_)\n",
    "print('y-axis intercept: ', model.intercept_)"
   ]
  },
  {
   "cell_type": "code",
   "execution_count": 21,
   "metadata": {},
   "outputs": [
    {
     "name": "stdout",
     "output_type": "stream",
     "text": [
      "Actual Min Value: 7290.0\n",
      "Predicted Min Value: [[13499.86559772]]\n",
      "Actual Max Value: 14411.0\n",
      "Predicted Max Value: [[9193.42502765]]\n"
     ]
    }
   ],
   "source": [
    "y_min_actual = y.min()\n",
    "y_max_actual = y.max()\n",
    "x_min = X.min()\n",
    "x_max = X.max()\n",
    "y_min_predicted = model.predict([[x_min]])\n",
    "y_max_predicted = model.predict([[x_max]])\n",
    "print(f\"Actual Min Value: {y_min_actual}\")\n",
    "print(f\"Predicted Min Value: {y_min_predicted}\")\n",
    "print(f\"Actual Max Value: {y_max_actual}\")\n",
    "print(f\"Predicted Max Value: {y_max_predicted}\")\n",
    "y_min =  13510.69705811+ (-73.27804676 * x_min)\n",
    "y_max = 13510.69705811+ (-73.27804676 * x_max)"
   ]
  },
  {
   "cell_type": "code",
   "execution_count": 22,
   "metadata": {},
   "outputs": [
    {
     "data": {
      "text/plain": [
       "[<matplotlib.lines.Line2D at 0x12d67872e10>]"
      ]
     },
     "execution_count": 22,
     "metadata": {},
     "output_type": "execute_result"
    },
    {
     "data": {
      "image/png": "[encoded data removed]",
      "text/plain": [
       "<Figure size 432x288 with 1 Axes>"
      ]
     },
     "metadata": {
      "needs_background": "light"
     },
     "output_type": "display_data"
    }
   ],
   "source": [
    "plt.scatter(X, y, c='blue')\n",
    "plt.title(\"Plot With Model for 2016 Chicago (Temp<60)\")\n",
    "plt.plot([x_min, x_max], [y_min, y_max], c='red')"
   ]
  },
  {
   "cell_type": "code",
   "execution_count": 23,
   "metadata": {},
   "outputs": [
    {
     "name": "stdout",
     "output_type": "stream",
     "text": [
      "True output: [10419.]\n",
      "Predicted output: [11076.35675728]\n",
      "Prediction Error: [657.35675728]\n"
     ]
    }
   ],
   "source": [
    "predictions = model.predict(X)\n",
    "print(f\"True output: {y[0]}\")\n",
    "print(f\"Predicted output: {predictions[0]}\")\n",
    "print(f\"Prediction Error: {predictions[0]-y[0]}\")"
   ]
  },
  {
   "cell_type": "code",
   "execution_count": 24,
   "metadata": {},
   "outputs": [],
   "source": [
    "modeldf = pd.DataFrame()\n",
    "for x in range(len(predictions)):\n",
    "   modeldf = modeldf.append({\"Predicted\": predictions[x][0], \"Actual\": y[x][0], \"Error\": predictions[x][0] - y[x][0]},ignore_index = True)"
   ]
  },
  {
   "cell_type": "code",
   "execution_count": 25,
   "metadata": {},
   "outputs": [
    {
     "data": {
      "text/html": [
       "<div>\n",
       "<style scoped>\n",
       "    .dataframe tbody tr th:only-of-type {\n",
       "        vertical-align: middle;\n",
       "    }\n",
       "\n",
       "    .dataframe tbody tr th {\n",
       "        vertical-align: top;\n",
       "    }\n",
       "\n",
       "    .dataframe thead th {\n",
       "        text-align: right;\n",
       "    }\n",
       "</style>\n",
       "<table border=\"1\" class=\"dataframe\">\n",
       "  <thead>\n",
       "    <tr style=\"text-align: right;\">\n",
       "      <th></th>\n",
       "      <th>Actual</th>\n",
       "      <th>Error</th>\n",
       "      <th>Predicted</th>\n",
       "    </tr>\n",
       "  </thead>\n",
       "  <tbody>\n",
       "    <tr>\n",
       "      <th>0</th>\n",
       "      <td>10419.0</td>\n",
       "      <td>657.356757</td>\n",
       "      <td>11076.356757</td>\n",
       "    </tr>\n",
       "    <tr>\n",
       "      <th>1</th>\n",
       "      <td>9940.0</td>\n",
       "      <td>1136.356757</td>\n",
       "      <td>11076.356757</td>\n",
       "    </tr>\n",
       "    <tr>\n",
       "      <th>2</th>\n",
       "      <td>9604.0</td>\n",
       "      <td>1230.005873</td>\n",
       "      <td>10834.005873</td>\n",
       "    </tr>\n",
       "    <tr>\n",
       "      <th>3</th>\n",
       "      <td>9318.0</td>\n",
       "      <td>1394.830431</td>\n",
       "      <td>10712.830431</td>\n",
       "    </tr>\n",
       "    <tr>\n",
       "      <th>4</th>\n",
       "      <td>9224.0</td>\n",
       "      <td>1488.830431</td>\n",
       "      <td>10712.830431</td>\n",
       "    </tr>\n",
       "    <tr>\n",
       "      <th>5</th>\n",
       "      <td>9209.0</td>\n",
       "      <td>1503.830431</td>\n",
       "      <td>10712.830431</td>\n",
       "    </tr>\n",
       "    <tr>\n",
       "      <th>6</th>\n",
       "      <td>9343.0</td>\n",
       "      <td>1369.830431</td>\n",
       "      <td>10712.830431</td>\n",
       "    </tr>\n",
       "    <tr>\n",
       "      <th>7</th>\n",
       "      <td>9715.0</td>\n",
       "      <td>876.654989</td>\n",
       "      <td>10591.654989</td>\n",
       "    </tr>\n",
       "    <tr>\n",
       "      <th>8</th>\n",
       "      <td>9809.0</td>\n",
       "      <td>661.479547</td>\n",
       "      <td>10470.479547</td>\n",
       "    </tr>\n",
       "    <tr>\n",
       "      <th>9</th>\n",
       "      <td>9974.0</td>\n",
       "      <td>496.479547</td>\n",
       "      <td>10470.479547</td>\n",
       "    </tr>\n",
       "    <tr>\n",
       "      <th>10</th>\n",
       "      <td>10087.0</td>\n",
       "      <td>504.654989</td>\n",
       "      <td>10591.654989</td>\n",
       "    </tr>\n",
       "    <tr>\n",
       "      <th>11</th>\n",
       "      <td>10187.0</td>\n",
       "      <td>404.654989</td>\n",
       "      <td>10591.654989</td>\n",
       "    </tr>\n",
       "    <tr>\n",
       "      <th>12</th>\n",
       "      <td>10299.0</td>\n",
       "      <td>292.654989</td>\n",
       "      <td>10591.654989</td>\n",
       "    </tr>\n",
       "    <tr>\n",
       "      <th>13</th>\n",
       "      <td>10385.0</td>\n",
       "      <td>206.654989</td>\n",
       "      <td>10591.654989</td>\n",
       "    </tr>\n",
       "    <tr>\n",
       "      <th>14</th>\n",
       "      <td>10261.0</td>\n",
       "      <td>209.479547</td>\n",
       "      <td>10470.479547</td>\n",
       "    </tr>\n",
       "    <tr>\n",
       "      <th>15</th>\n",
       "      <td>10313.0</td>\n",
       "      <td>157.479547</td>\n",
       "      <td>10470.479547</td>\n",
       "    </tr>\n",
       "    <tr>\n",
       "      <th>16</th>\n",
       "      <td>10416.0</td>\n",
       "      <td>-66.695895</td>\n",
       "      <td>10349.304105</td>\n",
       "    </tr>\n",
       "    <tr>\n",
       "      <th>17</th>\n",
       "      <td>11037.0</td>\n",
       "      <td>-808.871337</td>\n",
       "      <td>10228.128663</td>\n",
       "    </tr>\n",
       "    <tr>\n",
       "      <th>18</th>\n",
       "      <td>11587.0</td>\n",
       "      <td>-1237.695895</td>\n",
       "      <td>10349.304105</td>\n",
       "    </tr>\n",
       "    <tr>\n",
       "      <th>19</th>\n",
       "      <td>11549.0</td>\n",
       "      <td>-1199.695895</td>\n",
       "      <td>10349.304105</td>\n",
       "    </tr>\n",
       "    <tr>\n",
       "      <th>20</th>\n",
       "      <td>11273.0</td>\n",
       "      <td>-681.345011</td>\n",
       "      <td>10591.654989</td>\n",
       "    </tr>\n",
       "    <tr>\n",
       "      <th>21</th>\n",
       "      <td>11085.0</td>\n",
       "      <td>-372.169569</td>\n",
       "      <td>10712.830431</td>\n",
       "    </tr>\n",
       "    <tr>\n",
       "      <th>22</th>\n",
       "      <td>10801.0</td>\n",
       "      <td>-88.169569</td>\n",
       "      <td>10712.830431</td>\n",
       "    </tr>\n",
       "    <tr>\n",
       "      <th>23</th>\n",
       "      <td>10596.0</td>\n",
       "      <td>238.005873</td>\n",
       "      <td>10834.005873</td>\n",
       "    </tr>\n",
       "    <tr>\n",
       "      <th>24</th>\n",
       "      <td>10137.0</td>\n",
       "      <td>697.005873</td>\n",
       "      <td>10834.005873</td>\n",
       "    </tr>\n",
       "    <tr>\n",
       "      <th>25</th>\n",
       "      <td>9838.0</td>\n",
       "      <td>1117.181315</td>\n",
       "      <td>10955.181315</td>\n",
       "    </tr>\n",
       "    <tr>\n",
       "      <th>26</th>\n",
       "      <td>9715.0</td>\n",
       "      <td>1240.181315</td>\n",
       "      <td>10955.181315</td>\n",
       "    </tr>\n",
       "    <tr>\n",
       "      <th>27</th>\n",
       "      <td>9657.0</td>\n",
       "      <td>1298.181315</td>\n",
       "      <td>10955.181315</td>\n",
       "    </tr>\n",
       "    <tr>\n",
       "      <th>28</th>\n",
       "      <td>9885.0</td>\n",
       "      <td>1070.181315</td>\n",
       "      <td>10955.181315</td>\n",
       "    </tr>\n",
       "    <tr>\n",
       "      <th>29</th>\n",
       "      <td>10392.0</td>\n",
       "      <td>563.181315</td>\n",
       "      <td>10955.181315</td>\n",
       "    </tr>\n",
       "    <tr>\n",
       "      <th>...</th>\n",
       "      <td>...</td>\n",
       "      <td>...</td>\n",
       "      <td>...</td>\n",
       "    </tr>\n",
       "    <tr>\n",
       "      <th>3765</th>\n",
       "      <td>10228.0</td>\n",
       "      <td>1090.707641</td>\n",
       "      <td>11318.707641</td>\n",
       "    </tr>\n",
       "    <tr>\n",
       "      <th>3766</th>\n",
       "      <td>10361.0</td>\n",
       "      <td>957.707641</td>\n",
       "      <td>11318.707641</td>\n",
       "    </tr>\n",
       "    <tr>\n",
       "      <th>3767</th>\n",
       "      <td>10506.0</td>\n",
       "      <td>933.883083</td>\n",
       "      <td>11439.883083</td>\n",
       "    </tr>\n",
       "    <tr>\n",
       "      <th>3768</th>\n",
       "      <td>10518.0</td>\n",
       "      <td>1043.058525</td>\n",
       "      <td>11561.058525</td>\n",
       "    </tr>\n",
       "    <tr>\n",
       "      <th>3769</th>\n",
       "      <td>10530.0</td>\n",
       "      <td>1152.233967</td>\n",
       "      <td>11682.233967</td>\n",
       "    </tr>\n",
       "    <tr>\n",
       "      <th>3770</th>\n",
       "      <td>10401.0</td>\n",
       "      <td>1160.058525</td>\n",
       "      <td>11561.058525</td>\n",
       "    </tr>\n",
       "    <tr>\n",
       "      <th>3771</th>\n",
       "      <td>10247.0</td>\n",
       "      <td>1165.955207</td>\n",
       "      <td>11412.955207</td>\n",
       "    </tr>\n",
       "    <tr>\n",
       "      <th>3772</th>\n",
       "      <td>10110.0</td>\n",
       "      <td>1100.996137</td>\n",
       "      <td>11210.996137</td>\n",
       "    </tr>\n",
       "    <tr>\n",
       "      <th>3773</th>\n",
       "      <td>10916.0</td>\n",
       "      <td>228.349644</td>\n",
       "      <td>11144.349644</td>\n",
       "    </tr>\n",
       "    <tr>\n",
       "      <th>3774</th>\n",
       "      <td>11846.0</td>\n",
       "      <td>-904.282623</td>\n",
       "      <td>10941.717377</td>\n",
       "    </tr>\n",
       "    <tr>\n",
       "      <th>3775</th>\n",
       "      <td>11718.0</td>\n",
       "      <td>-776.282623</td>\n",
       "      <td>10941.717377</td>\n",
       "    </tr>\n",
       "    <tr>\n",
       "      <th>3776</th>\n",
       "      <td>11580.0</td>\n",
       "      <td>-624.818685</td>\n",
       "      <td>10955.181315</td>\n",
       "    </tr>\n",
       "    <tr>\n",
       "      <th>3777</th>\n",
       "      <td>10407.0</td>\n",
       "      <td>911.707641</td>\n",
       "      <td>11318.707641</td>\n",
       "    </tr>\n",
       "    <tr>\n",
       "      <th>3778</th>\n",
       "      <td>9791.0</td>\n",
       "      <td>1648.883083</td>\n",
       "      <td>11439.883083</td>\n",
       "    </tr>\n",
       "    <tr>\n",
       "      <th>3779</th>\n",
       "      <td>9617.0</td>\n",
       "      <td>1822.883083</td>\n",
       "      <td>11439.883083</td>\n",
       "    </tr>\n",
       "    <tr>\n",
       "      <th>3780</th>\n",
       "      <td>9598.0</td>\n",
       "      <td>1841.883083</td>\n",
       "      <td>11439.883083</td>\n",
       "    </tr>\n",
       "    <tr>\n",
       "      <th>3781</th>\n",
       "      <td>9766.0</td>\n",
       "      <td>1795.058525</td>\n",
       "      <td>11561.058525</td>\n",
       "    </tr>\n",
       "    <tr>\n",
       "      <th>3782</th>\n",
       "      <td>9903.0</td>\n",
       "      <td>1658.058525</td>\n",
       "      <td>11561.058525</td>\n",
       "    </tr>\n",
       "    <tr>\n",
       "      <th>3783</th>\n",
       "      <td>9948.0</td>\n",
       "      <td>1855.409409</td>\n",
       "      <td>11803.409409</td>\n",
       "    </tr>\n",
       "    <tr>\n",
       "      <th>3784</th>\n",
       "      <td>10203.0</td>\n",
       "      <td>1479.233967</td>\n",
       "      <td>11682.233967</td>\n",
       "    </tr>\n",
       "    <tr>\n",
       "      <th>3785</th>\n",
       "      <td>10437.0</td>\n",
       "      <td>1245.233967</td>\n",
       "      <td>11682.233967</td>\n",
       "    </tr>\n",
       "    <tr>\n",
       "      <th>3786</th>\n",
       "      <td>10557.0</td>\n",
       "      <td>1004.058525</td>\n",
       "      <td>11561.058525</td>\n",
       "    </tr>\n",
       "    <tr>\n",
       "      <th>3787</th>\n",
       "      <td>10519.0</td>\n",
       "      <td>1042.058525</td>\n",
       "      <td>11561.058525</td>\n",
       "    </tr>\n",
       "    <tr>\n",
       "      <th>3788</th>\n",
       "      <td>10446.0</td>\n",
       "      <td>1101.594587</td>\n",
       "      <td>11547.594587</td>\n",
       "    </tr>\n",
       "    <tr>\n",
       "      <th>3789</th>\n",
       "      <td>10375.0</td>\n",
       "      <td>1064.883083</td>\n",
       "      <td>11439.883083</td>\n",
       "    </tr>\n",
       "    <tr>\n",
       "      <th>3790</th>\n",
       "      <td>10430.0</td>\n",
       "      <td>982.955207</td>\n",
       "      <td>11412.955207</td>\n",
       "    </tr>\n",
       "    <tr>\n",
       "      <th>3791</th>\n",
       "      <td>11849.0</td>\n",
       "      <td>-570.010976</td>\n",
       "      <td>11278.989024</td>\n",
       "    </tr>\n",
       "    <tr>\n",
       "      <th>3792</th>\n",
       "      <td>11827.0</td>\n",
       "      <td>-548.010976</td>\n",
       "      <td>11278.989024</td>\n",
       "    </tr>\n",
       "    <tr>\n",
       "      <th>3793</th>\n",
       "      <td>11678.0</td>\n",
       "      <td>-480.467801</td>\n",
       "      <td>11197.532199</td>\n",
       "    </tr>\n",
       "    <tr>\n",
       "      <th>3794</th>\n",
       "      <td>10838.0</td>\n",
       "      <td>359.532199</td>\n",
       "      <td>11197.532199</td>\n",
       "    </tr>\n",
       "  </tbody>\n",
       "</table>\n",
       "<p>3795 rows × 3 columns</p>\n",
       "</div>"
      ],
      "text/plain": [
       "       Actual        Error     Predicted\n",
       "0     10419.0   657.356757  11076.356757\n",
       "1      9940.0  1136.356757  11076.356757\n",
       "2      9604.0  1230.005873  10834.005873\n",
       "3      9318.0  1394.830431  10712.830431\n",
       "4      9224.0  1488.830431  10712.830431\n",
       "5      9209.0  1503.830431  10712.830431\n",
       "6      9343.0  1369.830431  10712.830431\n",
       "7      9715.0   876.654989  10591.654989\n",
       "8      9809.0   661.479547  10470.479547\n",
       "9      9974.0   496.479547  10470.479547\n",
       "10    10087.0   504.654989  10591.654989\n",
       "11    10187.0   404.654989  10591.654989\n",
       "12    10299.0   292.654989  10591.654989\n",
       "13    10385.0   206.654989  10591.654989\n",
       "14    10261.0   209.479547  10470.479547\n",
       "15    10313.0   157.479547  10470.479547\n",
       "16    10416.0   -66.695895  10349.304105\n",
       "17    11037.0  -808.871337  10228.128663\n",
       "18    11587.0 -1237.695895  10349.304105\n",
       "19    11549.0 -1199.695895  10349.304105\n",
       "20    11273.0  -681.345011  10591.654989\n",
       "21    11085.0  -372.169569  10712.830431\n",
       "22    10801.0   -88.169569  10712.830431\n",
       "23    10596.0   238.005873  10834.005873\n",
       "24    10137.0   697.005873  10834.005873\n",
       "25     9838.0  1117.181315  10955.181315\n",
       "26     9715.0  1240.181315  10955.181315\n",
       "27     9657.0  1298.181315  10955.181315\n",
       "28     9885.0  1070.181315  10955.181315\n",
       "29    10392.0   563.181315  10955.181315\n",
       "...       ...          ...           ...\n",
       "3765  10228.0  1090.707641  11318.707641\n",
       "3766  10361.0   957.707641  11318.707641\n",
       "3767  10506.0   933.883083  11439.883083\n",
       "3768  10518.0  1043.058525  11561.058525\n",
       "3769  10530.0  1152.233967  11682.233967\n",
       "3770  10401.0  1160.058525  11561.058525\n",
       "3771  10247.0  1165.955207  11412.955207\n",
       "3772  10110.0  1100.996137  11210.996137\n",
       "3773  10916.0   228.349644  11144.349644\n",
       "3774  11846.0  -904.282623  10941.717377\n",
       "3775  11718.0  -776.282623  10941.717377\n",
       "3776  11580.0  -624.818685  10955.181315\n",
       "3777  10407.0   911.707641  11318.707641\n",
       "3778   9791.0  1648.883083  11439.883083\n",
       "3779   9617.0  1822.883083  11439.883083\n",
       "3780   9598.0  1841.883083  11439.883083\n",
       "3781   9766.0  1795.058525  11561.058525\n",
       "3782   9903.0  1658.058525  11561.058525\n",
       "3783   9948.0  1855.409409  11803.409409\n",
       "3784  10203.0  1479.233967  11682.233967\n",
       "3785  10437.0  1245.233967  11682.233967\n",
       "3786  10557.0  1004.058525  11561.058525\n",
       "3787  10519.0  1042.058525  11561.058525\n",
       "3788  10446.0  1101.594587  11547.594587\n",
       "3789  10375.0  1064.883083  11439.883083\n",
       "3790  10430.0   982.955207  11412.955207\n",
       "3791  11849.0  -570.010976  11278.989024\n",
       "3792  11827.0  -548.010976  11278.989024\n",
       "3793  11678.0  -480.467801  11197.532199\n",
       "3794  10838.0   359.532199  11197.532199\n",
       "\n",
       "[3795 rows x 3 columns]"
      ]
     },
     "execution_count": 25,
     "metadata": {},
     "output_type": "execute_result"
    }
   ],
   "source": [
    "modeldf"
   ]
  },
  {
   "cell_type": "code",
   "execution_count": null,
   "metadata": {},
   "outputs": [],
   "source": []
  }
 ],
 "metadata": {
  "kernelspec": {
   "display_name": "Python 3",
   "language": "python",
   "name": "python3"
  },
  "language_info": {
   "codemirror_mode": {
    "name": "ipython",
    "version": 3
   },
   "file_extension": ".py",
   "mimetype": "text/x-python",
   "name": "python",
   "nbconvert_exporter": "python",
   "pygments_lexer": "ipython3",
   "version": "3.7.0"
  }
 },
 "nbformat": 4,
 "nbformat_minor": 2
}
